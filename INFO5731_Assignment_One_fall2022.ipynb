{
  "cells": [
    {
      "cell_type": "markdown",
      "metadata": {
        "id": "view-in-github",
        "colab_type": "text"
      },
      "source": [
        "<a href=\"https://colab.research.google.com/github/sridhar-maddi/Sridhar_INFO5731_FALL2022/blob/main/INFO5731_Assignment_One_fall2022.ipynb\" target=\"_parent\"><img src=\"https://colab.research.google.com/assets/colab-badge.svg\" alt=\"Open In Colab\"/></a>"
      ]
    },
    {
      "cell_type": "markdown",
      "metadata": {
        "id": "Ryk8D1Q4Wsrp"
      },
      "source": [
        "# **INFO5731 Assignment One**"
      ]
    },
    {
      "cell_type": "markdown",
      "metadata": {
        "id": "90_NR8c5XGWc"
      },
      "source": [
        "# Question 1\n",
        "\n",
        "(20 points). Write a Python program to generate 12 random numbers between 1 and 100. Sort the list of numbers in ascending order and print it out. Sort the list of numbers in descending order and print it out. Calculate the average for the group and print it out."
      ]
    },
    {
      "cell_type": "code",
      "execution_count": null,
      "metadata": {
        "colab": {
          "base_uri": "https://localhost:8080/"
        },
        "id": "5QX6bJjGWXY9",
        "outputId": "917e69c3-efcc-4639-d540-944a10a70ab6"
      },
      "outputs": [
        {
          "output_type": "stream",
          "name": "stdout",
          "text": [
            "[21, 26, 33, 45, 49, 59, 62, 65, 67, 69, 71, 96]\n",
            "[96, 71, 69, 67, 65, 62, 59, 49, 45, 33, 26, 21]\n",
            "55.25\n"
          ]
        }
      ],
      "source": [
        "# Your code here\n",
        "import random\n",
        "luffylist = []\n",
        "for i in range(0, 12):\n",
        " e = random.randint(1, 100)\n",
        " luffylist.append(e)\n",
        "f = sorted(luffylist)\n",
        "print(f)\n",
        "u = sorted(luffylist, reverse = True)\n",
        "print(u)\n",
        "t=sum(u)/len(u)\n",
        "print(t)\n",
        "\n"
      ]
    },
    {
      "cell_type": "markdown",
      "metadata": {
        "id": "1F_PZdH9Sh49"
      },
      "source": [
        "# Question 2\n",
        "(25 points). Write a program that will do the following string formatting tasks:\n",
        "\n",
        "(1) Ask the user to enter two sentences.\n",
        "\n",
        "(2) Make each sentence into a list. Each element in the list should correspond to a word in the sentence. For example, if the sentence is \"Alas! Am I alive? This is my first python program\", the program should print out ['Alas, '!', 'Am', 'I', 'alive, '?', 'This', 'is', 'my', 'first', 'python', 'program'].\n",
        "\n",
        "(3) Compare the two sentences. Print out a list of words that occur in both sentences.\n",
        "\n",
        "(4) Remove any punctuation from the sentence and print it back out. It should remove at least the following characters, but it can remove more: period(“.”), comma (“,”), semicolon (“;”), and colon (“:”)\n",
        "\n",
        "(5) Count the number of vowels in the sentences. Print out each vowel and the number of times it appears in the sentences, such as: a:2, e:1, i:0, etc"
      ]
    },
    {
      "cell_type": "code",
      "execution_count": null,
      "metadata": {
        "colab": {
          "base_uri": "https://localhost:8080/"
        },
        "id": "Y0oOSlsOS0cq",
        "outputId": "90cc996e-58b1-4dba-e614-d4b0ae5a7908"
      },
      "outputs": [
        {
          "output_type": "stream",
          "name": "stderr",
          "text": [
            "[nltk_data] Downloading package punkt to /root/nltk_data...\n",
            "[nltk_data]   Unzipping tokenizers/punkt.zip.\n"
          ]
        },
        {
          "output_type": "stream",
          "name": "stdout",
          "text": [
            "Please Enter the first sentence:I like to eat ice cream,cakes.\n",
            "Please Enter the second sentence:I hate green leafy vegeatables;cabbage.\n",
            "['I', 'like', 'to', 'eat', 'ice', 'cream', ',', 'cakes', '.']\n",
            "['I', 'hate', 'green', 'leafy', 'vegeatables', ';', 'cabbage', '.']\n",
            "{'.', 'I'}\n",
            "['I', 'like', 'to', 'eat', 'ice', 'cream', ',', 'cakes', '.']\n",
            "['I', 'hate', 'green', 'leafy', 'vegeatables', ';', 'cabbage', '.']\n",
            "The vowels in the first sentence are: {'a': 3, 'e': 5, 'i': 3, 'o': 1, 'u': 0}\n",
            "The vowels in the second sentence are: {'a': 6, 'e': 8, 'i': 1, 'o': 0, 'u': 0}\n"
          ]
        }
      ],
      "source": [
        "# Your code here\n",
        "import nltk\n",
        "nltk.download('punkt')\n",
        "vakyam1=str(input('Please Enter the first sentence:'))\n",
        "vakyam2=str(input('Please Enter the second sentence:'))\n",
        "import nltk\n",
        "sri1 = nltk.word_tokenize(vakyam1)\n",
        "sri2 = nltk.word_tokenize(vakyam2)\n",
        "print(sri1)\n",
        "print(sri2)\n",
        "#Comparing the two sentences and printing words occuring in both\n",
        "print(set(sri1) & set(sri2))\n",
        "#remove punctuations\n",
        "from nltk.tokenize import RegexpTokenizer\n",
        "tokenizer = RegexpTokenizer(r'\\w+')\n",
        "s11=tokenizer.tokenize(vakyam1)\n",
        "s22=tokenizer.tokenize(vakyam2)\n",
        "print(sri1)\n",
        "print(sri2)\n",
        "#counting vowels\n",
        "vsk1 = vakyam1.lower()\n",
        "vsk2 = vakyam2.lower()\n",
        "vowel_counts1 = {}\n",
        "vowel_counts2 = {}\n",
        "for vowel in \"aeiou\":\n",
        " count1 = vsk1.count(vowel)\n",
        " vowel_counts1[vowel] = count1\n",
        " count2 = vsk2.count(vowel)\n",
        " vowel_counts2[vowel] = count2\n",
        "print('The vowels in the first sentence are:', vowel_counts1)\n",
        "print('The vowels in the second sentence are:', vowel_counts2)\n",
        "\n"
      ]
    },
    {
      "cell_type": "markdown",
      "metadata": {
        "id": "CmFoI4jDS9nx"
      },
      "source": [
        "# Question 3 \n",
        "\n",
        "(15 points). The formula that describes the volume V of a sphere with radius r is the following:\n",
        "\n",
        "$ V=\\frac{4}{3}\\ast\\ \\pi\\ast\\ r^3 $\n",
        "\n",
        "Write a program to calculate the value of V when r is in the range of 1–10. Output the result in the following format:\n",
        "\n",
        "\tr\tV\n",
        "\t1\t…\n",
        "\t2\t…\n",
        "\t3\t…\n"
      ]
    },
    {
      "cell_type": "code",
      "execution_count": 6,
      "metadata": {
        "colab": {
          "base_uri": "https://localhost:8080/"
        },
        "id": "pEyqeioAT95b",
        "outputId": "bedf1c67-f8c7-427b-f353-cf3714b388dc"
      },
      "outputs": [
        {
          "output_type": "stream",
          "name": "stdout",
          "text": [
            "r v\n",
            "1 4.18\n",
            "2 33.41\n",
            "3 112.76\n",
            "4 267.28\n",
            "5 522.03\n",
            "6 902.06\n",
            "7 1432.44\n",
            "8 2138.21\n",
            "9 3044.45\n",
            "10 4176.2\n"
          ]
        }
      ],
      "source": [
        "# Your code here\n",
        "r= range(1,11)\n",
        "print('r','v')\n",
        "for h in r:\n",
        "  v=round(1.33*3.14*h**3,2)\n",
        "  print(h,v)\n",
        "\n"
      ]
    },
    {
      "cell_type": "markdown",
      "metadata": {
        "id": "z3tBE7E-Xn5X"
      },
      "source": [
        "# Question 4\n",
        "\n",
        "(40 points). In the field of Data Science, data is often formatted as a comma-delimited (CSV) file, where each line in a file corresponds to a field's value. Refer to Chapter 9 (p. 106) for more information on comma-delimited files. To answer this question, you will need to download the file [Assignment1_denton_housing.csv](https://raw.githubusercontent.com/unt-iialab/info5731-spring2022/main/assignments/Assignment1_denton_housing.csv) included with this assignment. The file [Assignment1_denton_housing.csv](https://raw.githubusercontent.com/unt-iialab/info5731-spring2022/main/assignments/Assignment1_denton_housing.csv) contains statistics about housing in the city of Denton from 2008 to 2014. Write a program to implement the following questions.\n",
        "\n",
        "(1) (10 pts) Calculate the difference in the number of Occupied Housing Units from year to year and print it. The difference must be calculated for the consecutive years such as 2008-2009, 2009-2010 etc. Finally, print the values in the ascending order.\n",
        "\n",
        "(2) (10 pts) For all the years, calculate the percentage of housing units which are vacant an occupied. Print the results in the following format:\n",
        "\n",
        "Year Vacant Housing Units Occupied Housing Units\n",
        "\n",
        "    2008  30%   70%                          \n",
        "\t2009 ----- -----\n",
        "\t2010 ----- -----\n",
        "    2011 ----- -----\n",
        "\t2012 ----- -----\n",
        "    2013 ----- -----\n",
        "\t2014 ----- -----\n",
        "  \n",
        "  \n",
        "\n",
        "(3) (10 pts) Calculate and print the valued and years in which the highest number of housing units were vacant and occupied. Print the results in the following format:  \n",
        "\n",
        "                              Year\tValue\n",
        "\tVacant Housing Units\t  -----   -----\n",
        "\tOccupied Housing Units\t-----   -----\n",
        "\n",
        "(4) (10 pts) Calculate the harmonic mean of the total housing units and print it out. You can find the information about harmonic mean here: https://ncalculators.com/statistics/harmonic-mean-calculator.htm"
      ]
    },
    {
      "cell_type": "code",
      "execution_count": 1,
      "metadata": {
        "id": "lqGYuHBhcsRH",
        "colab": {
          "base_uri": "https://localhost:8080/"
        },
        "outputId": "5aa6295a-27bf-4bce-8a14-41b4fba1b71f"
      },
      "outputs": [
        {
          "output_type": "execute_result",
          "data": {
            "text/plain": [
              "[795, -5091, 303, -1404, -1565, -2622]"
            ]
          },
          "metadata": {},
          "execution_count": 1
        }
      ],
      "source": [
        "# Your code here\n",
        "import statistics\n",
        "import pandas as pd\n",
        "data = pd.read_csv(r'https://raw.githubusercontent.com/unt-iialab/info5731-spring2022/main/assignments/Assignment1_denton_housing.csv')\n",
        "#1\n",
        "#Calculate the difference in the number of Occupied Housing Units from year to year andprint it.\n",
        "#The difference must be calculated for the consecutive years such as 2008-2009, 2009-2010\n",
        "\n",
        "occuped_houses = data[data['title_field'] == 'Occupied Housing Units'].sort_values(by=['year'])\n",
        "\n",
        "# the difference in the number of Occupied Housing Units from year to year\n",
        "\n",
        "diff_house = [list(occuped_houses['value'].values)[loop] - list(occuped_houses['value'].values)[loop+1]\\\n",
        "for loop in range(len(occuped_houses)-1)]\n",
        "diff_house\n",
        "\n",
        "\n"
      ]
    },
    {
      "cell_type": "code",
      "source": [
        "year_unique_value = sorted(list(data['year'].unique()))\n",
        "the_occupied_houses = data[data['title_field'] == 'Occupied Housing Units'].sort_values(by=['year'])\n",
        "the_vacant_houses = data[data['title_field'] == 'Vacant Housing Units'].sort_values(by=['year'])\n",
        "unoccupied_house_df = pd.DataFrame()\n",
        "unoccupied_house_df['year'] = year_unique_value\n",
        "unoccupied_house_df['Vacant House'] =the_vacant_houses['value'].values\n",
        "unoccupied_house_df['Occupied House'] =the_occupied_houses['value'].values\n",
        "unoccupied_house_df['Percentage of Vacant House'] = [(unoccupied_house_df['Vacant House'][loop1] * 100) /\\\n",
        "                                           (unoccupied_house_df['Vacant House'][loop1] + unoccupied_house_df['Occupied House'][loop1])\\\n",
        "                                           for loop1 in range(len(unoccupied_house_df))]\n",
        "unoccupied_house_df['Percentage of Occupied House'] = [(unoccupied_house_df['Occupied House'][loop1] * 100) /\\\n",
        "                                           (unoccupied_house_df['Vacant House'][loop1] + unoccupied_house_df['Occupied House'][loop1])\\\n",
        "                                           for loop1 in range(len(unoccupied_house_df))]\n",
        "unoccupied_house_df"
      ],
      "metadata": {
        "colab": {
          "base_uri": "https://localhost:8080/",
          "height": 269
        },
        "id": "BmVgOMQQpdLP",
        "outputId": "c452efb5-e021-440c-e223-b1102a67a4e6"
      },
      "execution_count": 2,
      "outputs": [
        {
          "output_type": "execute_result",
          "data": {
            "text/plain": [
              "   year  Vacant House  Occupied House  Percentage of Vacant House  \\\n",
              "0  2008          4483           36711                   10.882653   \n",
              "1  2009          3583           35916                    9.071116   \n",
              "2  2010          3635           41007                    8.142556   \n",
              "3  2011          4213           40704                    9.379522   \n",
              "4  2012          3013           42108                    6.677600   \n",
              "5  2013          4215           43673                    8.801788   \n",
              "6  2014          2814           46295                    5.730111   \n",
              "\n",
              "   Percentage of Occupied House  \n",
              "0                     89.117347  \n",
              "1                     90.928884  \n",
              "2                     91.857444  \n",
              "3                     90.620478  \n",
              "4                     93.322400  \n",
              "5                     91.198212  \n",
              "6                     94.269889  "
            ],
            "text/html": [
              "\n",
              "  <div id=\"df-3fe2a727-27c3-459c-994c-6abfcda3f58c\">\n",
              "    <div class=\"colab-df-container\">\n",
              "      <div>\n",
              "<style scoped>\n",
              "    .dataframe tbody tr th:only-of-type {\n",
              "        vertical-align: middle;\n",
              "    }\n",
              "\n",
              "    .dataframe tbody tr th {\n",
              "        vertical-align: top;\n",
              "    }\n",
              "\n",
              "    .dataframe thead th {\n",
              "        text-align: right;\n",
              "    }\n",
              "</style>\n",
              "<table border=\"1\" class=\"dataframe\">\n",
              "  <thead>\n",
              "    <tr style=\"text-align: right;\">\n",
              "      <th></th>\n",
              "      <th>year</th>\n",
              "      <th>Vacant House</th>\n",
              "      <th>Occupied House</th>\n",
              "      <th>Percentage of Vacant House</th>\n",
              "      <th>Percentage of Occupied House</th>\n",
              "    </tr>\n",
              "  </thead>\n",
              "  <tbody>\n",
              "    <tr>\n",
              "      <th>0</th>\n",
              "      <td>2008</td>\n",
              "      <td>4483</td>\n",
              "      <td>36711</td>\n",
              "      <td>10.882653</td>\n",
              "      <td>89.117347</td>\n",
              "    </tr>\n",
              "    <tr>\n",
              "      <th>1</th>\n",
              "      <td>2009</td>\n",
              "      <td>3583</td>\n",
              "      <td>35916</td>\n",
              "      <td>9.071116</td>\n",
              "      <td>90.928884</td>\n",
              "    </tr>\n",
              "    <tr>\n",
              "      <th>2</th>\n",
              "      <td>2010</td>\n",
              "      <td>3635</td>\n",
              "      <td>41007</td>\n",
              "      <td>8.142556</td>\n",
              "      <td>91.857444</td>\n",
              "    </tr>\n",
              "    <tr>\n",
              "      <th>3</th>\n",
              "      <td>2011</td>\n",
              "      <td>4213</td>\n",
              "      <td>40704</td>\n",
              "      <td>9.379522</td>\n",
              "      <td>90.620478</td>\n",
              "    </tr>\n",
              "    <tr>\n",
              "      <th>4</th>\n",
              "      <td>2012</td>\n",
              "      <td>3013</td>\n",
              "      <td>42108</td>\n",
              "      <td>6.677600</td>\n",
              "      <td>93.322400</td>\n",
              "    </tr>\n",
              "    <tr>\n",
              "      <th>5</th>\n",
              "      <td>2013</td>\n",
              "      <td>4215</td>\n",
              "      <td>43673</td>\n",
              "      <td>8.801788</td>\n",
              "      <td>91.198212</td>\n",
              "    </tr>\n",
              "    <tr>\n",
              "      <th>6</th>\n",
              "      <td>2014</td>\n",
              "      <td>2814</td>\n",
              "      <td>46295</td>\n",
              "      <td>5.730111</td>\n",
              "      <td>94.269889</td>\n",
              "    </tr>\n",
              "  </tbody>\n",
              "</table>\n",
              "</div>\n",
              "      <button class=\"colab-df-convert\" onclick=\"convertToInteractive('df-3fe2a727-27c3-459c-994c-6abfcda3f58c')\"\n",
              "              title=\"Convert this dataframe to an interactive table.\"\n",
              "              style=\"display:none;\">\n",
              "        \n",
              "  <svg xmlns=\"http://www.w3.org/2000/svg\" height=\"24px\"viewBox=\"0 0 24 24\"\n",
              "       width=\"24px\">\n",
              "    <path d=\"M0 0h24v24H0V0z\" fill=\"none\"/>\n",
              "    <path d=\"M18.56 5.44l.94 2.06.94-2.06 2.06-.94-2.06-.94-.94-2.06-.94 2.06-2.06.94zm-11 1L8.5 8.5l.94-2.06 2.06-.94-2.06-.94L8.5 2.5l-.94 2.06-2.06.94zm10 10l.94 2.06.94-2.06 2.06-.94-2.06-.94-.94-2.06-.94 2.06-2.06.94z\"/><path d=\"M17.41 7.96l-1.37-1.37c-.4-.4-.92-.59-1.43-.59-.52 0-1.04.2-1.43.59L10.3 9.45l-7.72 7.72c-.78.78-.78 2.05 0 2.83L4 21.41c.39.39.9.59 1.41.59.51 0 1.02-.2 1.41-.59l7.78-7.78 2.81-2.81c.8-.78.8-2.07 0-2.86zM5.41 20L4 18.59l7.72-7.72 1.47 1.35L5.41 20z\"/>\n",
              "  </svg>\n",
              "      </button>\n",
              "      \n",
              "  <style>\n",
              "    .colab-df-container {\n",
              "      display:flex;\n",
              "      flex-wrap:wrap;\n",
              "      gap: 12px;\n",
              "    }\n",
              "\n",
              "    .colab-df-convert {\n",
              "      background-color: #E8F0FE;\n",
              "      border: none;\n",
              "      border-radius: 50%;\n",
              "      cursor: pointer;\n",
              "      display: none;\n",
              "      fill: #1967D2;\n",
              "      height: 32px;\n",
              "      padding: 0 0 0 0;\n",
              "      width: 32px;\n",
              "    }\n",
              "\n",
              "    .colab-df-convert:hover {\n",
              "      background-color: #E2EBFA;\n",
              "      box-shadow: 0px 1px 2px rgba(60, 64, 67, 0.3), 0px 1px 3px 1px rgba(60, 64, 67, 0.15);\n",
              "      fill: #174EA6;\n",
              "    }\n",
              "\n",
              "    [theme=dark] .colab-df-convert {\n",
              "      background-color: #3B4455;\n",
              "      fill: #D2E3FC;\n",
              "    }\n",
              "\n",
              "    [theme=dark] .colab-df-convert:hover {\n",
              "      background-color: #434B5C;\n",
              "      box-shadow: 0px 1px 3px 1px rgba(0, 0, 0, 0.15);\n",
              "      filter: drop-shadow(0px 1px 2px rgba(0, 0, 0, 0.3));\n",
              "      fill: #FFFFFF;\n",
              "    }\n",
              "  </style>\n",
              "\n",
              "      <script>\n",
              "        const buttonEl =\n",
              "          document.querySelector('#df-3fe2a727-27c3-459c-994c-6abfcda3f58c button.colab-df-convert');\n",
              "        buttonEl.style.display =\n",
              "          google.colab.kernel.accessAllowed ? 'block' : 'none';\n",
              "\n",
              "        async function convertToInteractive(key) {\n",
              "          const element = document.querySelector('#df-3fe2a727-27c3-459c-994c-6abfcda3f58c');\n",
              "          const dataTable =\n",
              "            await google.colab.kernel.invokeFunction('convertToInteractive',\n",
              "                                                     [key], {});\n",
              "          if (!dataTable) return;\n",
              "\n",
              "          const docLinkHtml = 'Like what you see? Visit the ' +\n",
              "            '<a target=\"_blank\" href=https://colab.research.google.com/notebooks/data_table.ipynb>data table notebook</a>'\n",
              "            + ' to learn more about interactive tables.';\n",
              "          element.innerHTML = '';\n",
              "          dataTable['output_type'] = 'display_data';\n",
              "          await google.colab.output.renderOutput(dataTable, element);\n",
              "          const docLink = document.createElement('div');\n",
              "          docLink.innerHTML = docLinkHtml;\n",
              "          element.appendChild(docLink);\n",
              "        }\n",
              "      </script>\n",
              "    </div>\n",
              "  </div>\n",
              "  "
            ]
          },
          "metadata": {},
          "execution_count": 2
        }
      ]
    },
    {
      "cell_type": "code",
      "source": [
        "no_of_max_idle_houses = max(data[data['title_field'] == 'Vacant Housing Units'].value)\n",
        "the_vacant_houses = the_vacant_houses[the_vacant_houses['value'] == no_of_max_idle_houses]\n",
        "print(the_vacant_houses)\n",
        "no_of_max_filled_houses = max(data[data['title_field'] == 'Occupied Housing Units'].value)\n",
        "no_of_max_filled_houses = the_occupied_houses[the_occupied_houses['value'] == no_of_max_filled_houses]\n",
        "print(no_of_max_filled_houses)"
      ],
      "metadata": {
        "colab": {
          "base_uri": "https://localhost:8080/"
        },
        "id": "Mn6b1MVPpsDb",
        "outputId": "51057948-0711-40f1-ecf4-d6286526ca9e"
      },
      "execution_count": 3,
      "outputs": [
        {
          "output_type": "stream",
          "name": "stdout",
          "text": [
            "    year           title_field  value\n",
            "19  2008  Vacant Housing Units   4483\n",
            "   year             title_field  value\n",
            "2  2014  Occupied Housing Units  46295\n"
          ]
        }
      ]
    },
    {
      "cell_type": "code",
      "source": [
        "import statistics\n",
        "print(statistics.harmonic_mean(list(data[data['title_field'] == 'Total Housing Units'].value)))"
      ],
      "metadata": {
        "colab": {
          "base_uri": "https://localhost:8080/"
        },
        "id": "d1cDxB9Dqxxa",
        "outputId": "bf3192f4-0882-46d7-cc76-490ac045024b"
      },
      "execution_count": 4,
      "outputs": [
        {
          "output_type": "stream",
          "name": "stdout",
          "text": [
            "44398.28543969185\n"
          ]
        }
      ]
    }
  ],
  "metadata": {
    "colab": {
      "collapsed_sections": [],
      "provenance": [],
      "include_colab_link": true
    },
    "kernelspec": {
      "display_name": "Python 3 (ipykernel)",
      "language": "python",
      "name": "python3"
    },
    "language_info": {
      "codemirror_mode": {
        "name": "ipython",
        "version": 3
      },
      "file_extension": ".py",
      "mimetype": "text/x-python",
      "name": "python",
      "nbconvert_exporter": "python",
      "pygments_lexer": "ipython3",
      "version": "3.9.12"
    }
  },
  "nbformat": 4,
  "nbformat_minor": 0
}